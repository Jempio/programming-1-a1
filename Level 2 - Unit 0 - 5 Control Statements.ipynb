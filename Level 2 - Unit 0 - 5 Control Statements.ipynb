{
 "cells": [
  {
   "cell_type": "markdown",
   "metadata": {},
   "source": [
    "# Control Statements\n",
    "\n",
    "![Hello!](https://media.giphy.com/media/ASd0Ukj0y3qMM/giphy.gif)"
   ]
  },
  {
   "cell_type": "markdown",
   "metadata": {},
   "source": [
    "# Skills\n",
    "* understand if statements\n",
    "* understand why we use elif instead of else in some cases"
   ]
  },
  {
   "cell_type": "markdown",
   "metadata": {},
   "source": [
    "## `if` statements\n",
    "We can branch code using contr\n",
    "ol statements.  \n",
    "We can do that using `if` statements.\n",
    "\n",
    "![Branching from https://programarcadegames.com](http://programarcadegames.com/chapters/03_if_statements/flowchart1_thumb.png)"
   ]
  },
  {
   "cell_type": "code",
   "execution_count": 1,
   "metadata": {
    "tags": []
   },
   "outputs": [
    {
     "name": "stdin",
     "output_type": "stream",
     "text": [
      "First Value:  10\n",
      "Second Value:  12\n"
     ]
    },
    {
     "name": "stdout",
     "output_type": "stream",
     "text": [
      "a is less than b\n",
      "Done\n"
     ]
    }
   ],
   "source": [
    "# ask the user for two values:\n",
    "# floats are decimal numbers\n",
    "# cast numbers as floats or ints\n",
    "a = float(input('First Value: '))\n",
    "b = float(input('Second Value: '))\n",
    "\n",
    "if a < b:\n",
    "    print(f'a is less than b')\n",
    "if b < a:\n",
    "    print(f'b is less than a')\n",
    "print(f'Done')"
   ]
  },
  {
   "cell_type": "markdown",
   "metadata": {},
   "source": [
    "## `elif` and `else` "
   ]
  },
  {
   "cell_type": "code",
   "execution_count": 2,
   "metadata": {},
   "outputs": [
    {
     "name": "stdin",
     "output_type": "stream",
     "text": [
      "Enter a number:  101\n"
     ]
    },
    {
     "name": "stdout",
     "output_type": "stream",
     "text": [
      "x is greater than 100\n"
     ]
    }
   ],
   "source": [
    "# get input from user\n",
    "x = float(input('Enter a number: '))\n",
    "\n",
    "if x > 100:\n",
    "    print(f'x is greater than 100')\n",
    "elif x > 50:\n",
    "    print(f'x is greater than 50')\n",
    "elif x > 20:\n",
    "    print(f'x is greater than 20')\n",
    "else:\n",
    "    print(f'x is something')"
   ]
  },
  {
   "cell_type": "markdown",
   "metadata": {},
   "source": [
    "## Booleans\n",
    "\n",
    "**Booleans** are a _**datatype**_.  \n",
    "They are either `True` or `False` in Python.\n",
    "\n",
    "Note:  \n",
    "Know the distinction between `'True'` and `True`  \n",
    "and equally `'False'` and `False`"
   ]
  },
  {
   "cell_type": "markdown",
   "metadata": {},
   "source": [
    "### _Aside: Checking Data Types_\n",
    "\n",
    "If you want to check the type of data, use, the function `type()`."
   ]
  },
  {
   "cell_type": "code",
   "execution_count": 1,
   "metadata": {},
   "outputs": [
    {
     "data": {
      "text/plain": [
       "str"
      ]
     },
     "execution_count": 1,
     "metadata": {},
     "output_type": "execute_result"
    }
   ],
   "source": [
    "# Reminder that you can use type() to check type\n",
    "type(\"True\")\n",
    "type(True)"
   ]
  },
  {
   "cell_type": "code",
   "execution_count": 10,
   "metadata": {},
   "outputs": [
    {
     "name": "stdout",
     "output_type": "stream",
     "text": [
      "Something.\n"
     ]
    }
   ],
   "source": [
    "# Gotchas - if statements\n",
    "num = 3\n",
    "if num == 3 or 4:\n",
    "    print(\"Something.\")"
   ]
  },
  {
   "cell_type": "markdown",
   "metadata": {},
   "source": [
    "In Python anything that is not:\n",
    "* 0\n",
    "* None\n",
    "* False\n",
    "\n",
    "**Is True**"
   ]
  },
  {
   "cell_type": "markdown",
   "metadata": {},
   "source": [
    "## Boolean Expressions\n",
    "\n",
    "Boolean expressions are operations that evaluate to booleans."
   ]
  },
  {
   "cell_type": "code",
   "execution_count": 12,
   "metadata": {},
   "outputs": [
    {
     "data": {
      "text/plain": [
       "False"
      ]
     },
     "execution_count": 12,
     "metadata": {},
     "output_type": "execute_result"
    }
   ],
   "source": [
    "\"true\" == \"True\""
   ]
  },
  {
   "cell_type": "markdown",
   "metadata": {},
   "source": [
    "## Boolean Variables\n",
    "\n",
    "Variables can be booleans as well."
   ]
  },
  {
   "cell_type": "code",
   "execution_count": 15,
   "metadata": {},
   "outputs": [
    {
     "name": "stdout",
     "output_type": "stream",
     "text": [
      "It's true.\n",
      "You won't need an umbrella.\n"
     ]
    }
   ],
   "source": [
    "justin_is_cool = True\n",
    "if justin_is_cool:\n",
    "    print(\"It's true.\")\n",
    "is_sunny = True\n",
    "if is_sunny:\n",
    "    print(\"You won't need an umbrella.\")"
   ]
  },
  {
   "cell_type": "markdown",
   "metadata": {},
   "source": [
    "## Boolean Operators\n",
    "\n",
    "### Using `not`\n",
    "`not` is a unary operator  \n",
    "You only need **one operand**."
   ]
  },
  {
   "cell_type": "code",
   "execution_count": 19,
   "metadata": {},
   "outputs": [
    {
     "name": "stdout",
     "output_type": "stream",
     "text": [
      "You might need an umbrella.\n"
     ]
    }
   ],
   "source": [
    "sunny = False\n",
    "\n",
    "if not sunny:\n",
    "    print(\"You might need an umbrella.\")\n",
    "    \n",
    "age = 15\n",
    "\n",
    "if age != 16:\n",
    "    print(\"You can't get your N yet.\")"
   ]
  },
  {
   "cell_type": "markdown",
   "metadata": {},
   "source": [
    "### Using `and` and `or`\n",
    "`and` and `or` are binary operators.  \n",
    "You need **two operands** to use them."
   ]
  },
  {
   "cell_type": "code",
   "execution_count": 25,
   "metadata": {},
   "outputs": [
    {
     "name": "stdout",
     "output_type": "stream",
     "text": [
      "You shoud also bring a bow\n"
     ]
    }
   ],
   "source": [
    "have_axe = True\n",
    "have_bow = False\n",
    "\n",
    "if have_axe and have_bow:\n",
    "    print(\"You're ready to fight.\")\n",
    "elif have_axe:\n",
    "    print(\"You shoud also bring a bow.\")\n",
    "elif have_bow:\n",
    "    print(\"You should also bring a axe.\")"
   ]
  },
  {
   "cell_type": "markdown",
   "metadata": {},
   "source": [
    "---\n",
    "# Practice Questions"
   ]
  },
  {
   "cell_type": "markdown",
   "metadata": {},
   "source": [
    "## 1. What's missing from this code?"
   ]
  },
  {
   "cell_type": "code",
   "execution_count": 27,
   "metadata": {},
   "outputs": [
    {
     "name": "stdin",
     "output_type": "stream",
     "text": [
      "Temperature:  100\n"
     ]
    },
    {
     "name": "stdout",
     "output_type": "stream",
     "text": [
      "It is hot outside.\n"
     ]
    }
   ],
   "source": [
    "temperature = int(input(f'Temperature: '))\n",
    "if temperature > 90:\n",
    "    print(f'It is hot outside.')\n",
    "else:\n",
    "    print(f'It is not hot out.')"
   ]
  },
  {
   "cell_type": "markdown",
   "metadata": {},
   "source": [
    "## 2. What do you think this next code will print out?\n",
    "**Before you run the code,** take your best guess as to what it will print out.  \n",
    "Put your guess here:  "
   ]
  },
  {
   "cell_type": "code",
   "execution_count": 28,
   "metadata": {},
   "outputs": [
    {
     "name": "stdout",
     "output_type": "stream",
     "text": [
      "x=5\n",
      "y=False\n",
      "z=True\n",
      "Buzz\n"
     ]
    }
   ],
   "source": [
    "x = 5\n",
    "y = x == 6 \n",
    "z = x == 5 \n",
    "print(f'x={x}')   \n",
    "print(f'y={y}')    \n",
    "print(f'z={z}')    \n",
    "if y:\n",
    "    print(f'Fizz') \n",
    "if z:\n",
    "    print(f'Buzz')"
   ]
  },
  {
   "cell_type": "markdown",
   "metadata": {},
   "source": [
    "## 3. What do you think this code will print out?\n",
    "Again, **take an educated guess before running the code.**  \n",
    "Put your answers in inline comments beside the line of code.  \n",
    "There's an example below.\n",
    "If you're guess isn't right, try and figure out why it outputs what it does."
   ]
  },
  {
   "cell_type": "code",
   "execution_count": 33,
   "metadata": {},
   "outputs": [
    {
     "name": "stdout",
     "output_type": "stream",
     "text": [
      "True\n",
      "False\n",
      "True\n",
      "True\n",
      "True\n",
      "False\n",
      "False\n",
      "True\n",
      "False\n"
     ]
    }
   ],
   "source": [
    "print(\"3\" == \"3\")  # True         \n",
    "print(\" 3\" == \"3\")   # False\n",
    "print(3 < 4)  # True                \n",
    "print(3 < 10)  # True            \n",
    "print(\"3\" < \"4\")  # False          \n",
    "print(\"3\" < \"10\")  # False        \n",
    "print( (2 == 2) == \"True\" ) # False\n",
    "print( (2 == 2) == True )   # True\n",
    "print(3 < int(\"3\"))  # False            "
   ]
  },
  {
   "cell_type": "markdown",
   "metadata": {},
   "source": [
    "---\n",
    "# Exercise\n",
    "\n",
    "Create your own quiz with five or more questions. You can ask questions that require:\n",
    "1. a number as an answer (e.g., What is 1+1?)\n",
    "2. text (e.g. What is Harry Potter's last name?)\n",
    "3. a selection (Which of these choices are correct? A, B, or C?) \n",
    "\n",
    "If you have the user enter non-numeric answers, think and cover the different ways a user could enter a correct answer. For example, if the answer is “a”, would “A” also be acceptable? \n",
    "1. Let the user know if he or she gets the question correct. Print a message depending on the user's answer.\n",
    "2. You need to keep track of how many questions they get correct.\n",
    "3. At the end of the program print the percentage of questions the user gets right. "
   ]
  },
  {
   "cell_type": "code",
   "execution_count": null,
   "metadata": {},
   "outputs": [],
   "source": []
  },
  {
   "cell_type": "code",
   "execution_count": 65,
   "metadata": {},
   "outputs": [
    {
     "name": "stdout",
     "output_type": "stream",
     "text": [
      "Welcome to Justin's Pogger's Pokemon Quiz\n"
     ]
    },
    {
     "name": "stdin",
     "output_type": "stream",
     "text": [
      "Could I get your name? winston\n"
     ]
    },
    {
     "name": "stdout",
     "output_type": "stream",
     "text": [
      "Alright winston let's start!\n"
     ]
    },
    {
     "name": "stdin",
     "output_type": "stream",
     "text": [
      "Which of these pokemon evolve from Wooper? A,B,C,or D\n",
      " A.Hoopa\n",
      " B.Swampert\n",
      " C.Quagsire\n",
      " D.Stunfisk\n",
      " c\n"
     ]
    },
    {
     "name": "stdout",
     "output_type": "stream",
     "text": [
      "Nice one!\n"
     ]
    },
    {
     "name": "stdin",
     "output_type": "stream",
     "text": [
      "What level does Weedle evolve at?\n",
      " 7\n"
     ]
    },
    {
     "name": "stdout",
     "output_type": "stream",
     "text": [
      "Good job!\n"
     ]
    },
    {
     "name": "stdin",
     "output_type": "stream",
     "text": [
      "Who is the 5th Gym Leader in Gen 3?\n",
      " norman\n"
     ]
    },
    {
     "name": "stdout",
     "output_type": "stream",
     "text": [
      "Wow!\n"
     ]
    },
    {
     "name": "stdin",
     "output_type": "stream",
     "text": [
      "Who is the main villan in Pokemon Black and White? ghetsis\n"
     ]
    },
    {
     "name": "stdout",
     "output_type": "stream",
     "text": [
      "Holy nice job!\n"
     ]
    },
    {
     "name": "stdin",
     "output_type": "stream",
     "text": [
      "What is the base pp of Roost? 10\n"
     ]
    },
    {
     "name": "stdout",
     "output_type": "stream",
     "text": [
      "Ayy\n",
      "Okay that's the end of the quiz.\n",
      " Your final score is 5/5\n",
      " That's 100%!\n"
     ]
    }
   ],
   "source": [
    "# Pokemon Quiz\n",
    "# Author: Justin Li\n",
    "# Date: Dec 4th\n",
    "import time\n",
    "score = 0\n",
    "print(\"Welcome to Justin's Pogger's Pokemon Quiz\")\n",
    "time.sleep(1.5)\n",
    "name = input(\"Could I get your name?\")\n",
    "print(f\"Alright {name} let's start!\")\n",
    "time.sleep(2)\n",
    "q1 = input(\"Which of these pokemon evolve from Wooper? A,B,C,or D\\n A.Hoopa\\n B.Swampert\\n C.Quagsire\\n D.Stunfisk\\n\").upper()\n",
    "if q1 == \"C\":\n",
    "    print(\"Nice one!\")\n",
    "    score += 1\n",
    "else:\n",
    "    print(\"Dang nice try.\")\n",
    "q2 = int(input(\"What level does Weedle evolve at?\\n\"))\n",
    "if q2 == 7:\n",
    "    print(\"Good job!\")\n",
    "    score += 1\n",
    "else:\n",
    "    print(\"Good try.\")\n",
    "q3 = input(\"Who is the 5th Gym Leader in Gen 3?\\n\").upper()\n",
    "if q3 == \"NORMAN\":\n",
    "    print(\"Wow!\")\n",
    "    score += 1\n",
    "else:\n",
    "    print(\"Unlucky.\")\n",
    "q4 = input(\"Who is the main villan in Pokemon Black and White?\").upper()\n",
    "if q4 == \"GHETSIS\":\n",
    "    print(\"Holy nice job!\")\n",
    "    score += 1\n",
    "else:\n",
    "    print(\"Aw good try\")\n",
    "q5 = int(input(\"What is the base pp of Roost?\"))\n",
    "if q5 == 10:\n",
    "    print(\"Ayy\")\n",
    "    score += 1\n",
    "else:\n",
    "    print(\"Man.\")\n",
    "    \n",
    "print(f\"Okay that's the end of the quiz.\\n Your final score is {score}/5\\n That's {int(score/5*100)}%!\")\n",
    "\n",
    "        \n",
    "\n",
    "\n"
   ]
  },
  {
   "cell_type": "markdown",
   "metadata": {},
   "source": [
    "# Requirements\n",
    "* Has five or more questions \n",
    "* Give the user feedback per question \n",
    "* Keep track of correct answers\n",
    "* Give them their outcome at the end"
   ]
  },
  {
   "cell_type": "code",
   "execution_count": null,
   "metadata": {},
   "outputs": [],
   "source": []
  }
 ],
 "metadata": {
  "kernelspec": {
   "display_name": "Python 3",
   "language": "python",
   "name": "python3"
  },
  "language_info": {
   "codemirror_mode": {
    "name": "ipython",
    "version": 3
   },
   "file_extension": ".py",
   "mimetype": "text/x-python",
   "name": "python",
   "nbconvert_exporter": "python",
   "pygments_lexer": "ipython3",
   "version": "3.8.2"
  }
 },
 "nbformat": 4,
 "nbformat_minor": 4
}
